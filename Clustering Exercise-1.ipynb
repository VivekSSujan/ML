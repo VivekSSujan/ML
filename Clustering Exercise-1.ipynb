{
 "cells": [
  {
   "cell_type": "code",
   "execution_count": 1,
   "id": "391ff476",
   "metadata": {},
   "outputs": [],
   "source": [
    "import pandas as pd\n",
    "import numpy as np\n",
    "from sklearn.cluster import KMeans\n",
    "import matplotlib.pyplot as plt\n",
    "import warnings\n",
    "warnings.filterwarnings('ignore')"
   ]
  },
  {
   "cell_type": "code",
   "execution_count": 2,
   "id": "df3ee56a",
   "metadata": {},
   "outputs": [],
   "source": [
    "input_folder = r'C:\\Users\\Vivek.Sujan\\OneDrive - TEG Business Solutions Pvt Ltd\\Work Data\\MI-PI\\Adhoc\\Clustering - New PlansxAI\\1.Input Files\\v2_inputs'"
   ]
  },
  {
   "cell_type": "code",
   "execution_count": 3,
   "id": "fa3d4723",
   "metadata": {},
   "outputs": [],
   "source": [
    "output_folder = r'C:\\Users\\Vivek.Sujan\\OneDrive - TEG Business Solutions Pvt Ltd\\Work Data\\MI-PI\\Adhoc\\Clustering - New PlansxAI\\3. Output Folder\\w_TPV_OOPC\\iter2'"
   ]
  },
  {
   "cell_type": "code",
   "execution_count": 4,
   "id": "c56973bb",
   "metadata": {},
   "outputs": [],
   "source": [
    "# df1 = pd.read_excel(input_folder + r'\\MS_Ben_cost_Template_H1609_066.xlsx',sheet_name = \"All_benefits\")\n",
    "# rqd_cols = ['Benefit','Cost_Coverage_YN','bid_id']\n",
    "# df1['bid_id'] = 'H1609_066'\n",
    "# df1 = df1[rqd_cols]\n",
    "# df1 = df1[df1[\"Cost_Coverage_YN\"].isna()==False]"
   ]
  },
  {
   "cell_type": "code",
   "execution_count": 5,
   "id": "51301ab7",
   "metadata": {},
   "outputs": [],
   "source": [
    "# df2 = pd.read_excel(input_folder + r'\\MS_Ben_cost_Template_H1609_067 - v2.xlsx',sheet_name = \"All_benefits\")\n",
    "# rqd_cols = ['Benefit','Cost_Coverage_YN','bid_id']\n",
    "# df2['bid_id'] = 'H1609_067'\n",
    "# df2 = df2[rqd_cols]\n",
    "# df2 = df2[df2[\"Cost_Coverage_YN\"].isna()==False]"
   ]
  },
  {
   "cell_type": "code",
   "execution_count": 6,
   "id": "0ae39ce8",
   "metadata": {},
   "outputs": [],
   "source": [
    "df3 = pd.read_csv(input_folder + r'\\H5521_432_Combined_Cost_v2.csv')\n",
    "# rqd_cols = ['Benefit','Cost_Coverage_YN','bid_id']\n",
    "df3['bid_id'] = 'H5521_432'\n",
    "df3['State'] = 'Florida'\n",
    "Counties = ['Broward','Indian River','Martin', 'Palm Beach', 'St. Lucie']\n",
    "# df3['County'] = Counties\n",
    "df3 = df3.loc[df3.index.repeat(len(Counties))]\n",
    "df3.reset_index(drop=True, inplace=True)\n",
    "df3['County'] = Counties"
   ]
  },
  {
   "cell_type": "code",
   "execution_count": 7,
   "id": "c8a81811",
   "metadata": {},
   "outputs": [],
   "source": [
    "df4 = pd.read_csv(input_folder + r'\\H5521_433_Combined_Cost_v2.csv')\n",
    "# rqd_cols = ['Benefit','Cost_Coverage_YN','bid_id']\n",
    "df4['bid_id'] = 'H5521_433'\n",
    "df4['State'] = 'Florida'\n",
    "Counties = ['Brevard']\n",
    "# df4['County'] = Counties\n",
    "df4 = df4.loc[df4.index.repeat(len(Counties))]\n",
    "df4.reset_index(drop=True, inplace=True)\n",
    "df4['County'] = Counties"
   ]
  },
  {
   "cell_type": "code",
   "execution_count": 8,
   "id": "696b2a48",
   "metadata": {},
   "outputs": [],
   "source": [
    "df5 = pd.read_csv(input_folder + r'\\H5521_434_Combined_Cost_v2.csv')\n",
    "# rqd_cols = ['Benefit','Cost_Coverage_YN','bid_id']\n",
    "df5['bid_id'] = 'H5521_434'\n",
    "df5['State'] = 'Florida'\n",
    "Counties = ['Alachua','Baker','Clay','Columbia','Duval','Flagler','Nassau','Putnam','St. Johns','Volusia']\n",
    "# df5['County'] = Counties\n",
    "df5 = df5.loc[df5.index.repeat(len(Counties))]\n",
    "df5.reset_index(drop=True, inplace=True)\n",
    "df5['County'] = Counties"
   ]
  },
  {
   "cell_type": "code",
   "execution_count": 9,
   "id": "b392fc0a",
   "metadata": {},
   "outputs": [],
   "source": [
    "df6 = pd.read_csv(input_folder + r'\\H5521_435_Combined_Cost_v2.csv')\n",
    "# rqd_cols = ['Benefit','Cost_Coverage_YN','bid_id']\n",
    "df6['bid_id'] = 'H5521_435'\n",
    "df6['State'] = 'Florida'\n",
    "Counties = ['Escambia','Santa Rosa']\n",
    "# df6['County'] = Counties\n",
    "df6 = df6.loc[df6.index.repeat(len(Counties))]\n",
    "df6.reset_index(drop=True, inplace=True)\n",
    "df6['County'] = Counties"
   ]
  },
  {
   "cell_type": "code",
   "execution_count": 10,
   "id": "28cb94e1",
   "metadata": {},
   "outputs": [],
   "source": [
    "df7 = pd.read_csv(input_folder + r'\\H5521_436_Combined_Cost_v2.csv')\n",
    "# rqd_cols = ['Benefit','Cost_Coverage_YN','bid_id']\n",
    "df7['bid_id'] = 'H5521_436'\n",
    "df7['State'] = 'Florida'\n",
    "Counties = ['Orange','Osceola','Seminole']\n",
    "# df7['County'] = Counties\n",
    "df7 = df7.loc[df7.index.repeat(len(Counties))]\n",
    "df7.reset_index(drop=True, inplace=True)\n",
    "df7['County'] = Counties"
   ]
  },
  {
   "cell_type": "code",
   "execution_count": 11,
   "id": "2e543cba",
   "metadata": {},
   "outputs": [],
   "source": [
    "df8 = pd.read_csv(input_folder + r'\\H5521_437_Combined_Cost_v2.csv')\n",
    "# rqd_cols = ['Benefit','Cost_Coverage_YN','bid_id']\n",
    "df8['bid_id'] = 'H5521_437'\n",
    "df8['State'] = 'Florida'\n",
    "Counties = ['Hernando','Hillsborough','Pasco','Pinellas','Polk']\n",
    "# df8['County'] = Counties\n",
    "df8 = df8.loc[df8.index.repeat(len(Counties))]\n",
    "df8.reset_index(drop=True, inplace=True)\n",
    "df8['County'] = Counties"
   ]
  },
  {
   "cell_type": "code",
   "execution_count": 12,
   "id": "25b96ec5",
   "metadata": {},
   "outputs": [],
   "source": [
    "df9 = pd.read_csv(input_folder + r'\\H5521_438_Combined_Cost_v2.csv')\n",
    "# rqd_cols = ['Benefit','Cost_Coverage_YN','bid_id']\n",
    "df9['bid_id'] = 'H5521_438'\n",
    "df9['State'] = 'Florida'\n",
    "Counties = ['Charlotte','Collier','DeSoto','Highlands','Lee','Manatee','Sarasota']\n",
    "# df9['County'] = Counties\n",
    "df9 = df9.loc[df9.index.repeat(len(Counties))]\n",
    "df9.reset_index(drop=True, inplace=True)\n",
    "df9['County'] = Counties"
   ]
  },
  {
   "cell_type": "code",
   "execution_count": 13,
   "id": "2d7cbbc7",
   "metadata": {},
   "outputs": [],
   "source": [
    "df10 = pd.read_csv(input_folder + r'\\H5521_439_Combined_Cost_v2.csv')\n",
    "# rqd_cols = ['Benefit','Cost_Coverage_YN','bid_id']\n",
    "df10['bid_id'] = 'H5521_439'\n",
    "df10['State'] = 'Florida'\n",
    "Counties = ['Lake','Levy','Marion','Sumter']\n",
    "# df10['County'] = Counties\n",
    "df10 = df10.loc[df10.index.repeat(len(Counties))]\n",
    "df10.reset_index(drop=True, inplace=True)\n",
    "df10['County'] = Counties"
   ]
  },
  {
   "cell_type": "code",
   "execution_count": 14,
   "id": "285a1740",
   "metadata": {},
   "outputs": [],
   "source": [
    "dataframes = [df3,df4,df5,df6,df7,df8,df9,df10]"
   ]
  },
  {
   "cell_type": "code",
   "execution_count": 15,
   "id": "b5d136e6",
   "metadata": {},
   "outputs": [],
   "source": [
    "# Create a list to store the column names of each DataFrame\n",
    "\n",
    "column_lists = []\n",
    "\n",
    "# Append the column names of each DataFrame to the list\n",
    "\n",
    "for df in dataframes:\n",
    "    column_lists.append(set(df.columns))\n",
    "\n",
    "# Find the intersection of all column sets\n",
    "common_columns = set.intersection(*column_lists)\n",
    "\n",
    "# Print the common columns\n",
    "# print((common_columns))"
   ]
  },
  {
   "cell_type": "code",
   "execution_count": 16,
   "id": "26859719",
   "metadata": {},
   "outputs": [],
   "source": [
    "final_df = pd.concat(dataframes)"
   ]
  },
  {
   "cell_type": "code",
   "execution_count": 17,
   "id": "141793a3",
   "metadata": {},
   "outputs": [],
   "source": [
    "final_df.reset_index(drop=True, inplace=True)"
   ]
  },
  {
   "cell_type": "code",
   "execution_count": 18,
   "id": "f317ecf5",
   "metadata": {},
   "outputs": [],
   "source": [
    "final_df = final_df[common_columns]"
   ]
  },
  {
   "cell_type": "code",
   "execution_count": 19,
   "id": "665e5b6b",
   "metadata": {},
   "outputs": [],
   "source": [
    "# final_df.to_csv(output_folder + r'\\Sample1.csv',index=False)"
   ]
  },
  {
   "cell_type": "code",
   "execution_count": 20,
   "id": "3160a9b0",
   "metadata": {},
   "outputs": [],
   "source": [
    "global_df = pd.read_csv(input_folder + r'\\Final_data_v14_PPO_2023.csv')"
   ]
  },
  {
   "cell_type": "code",
   "execution_count": 21,
   "id": "02b542ed",
   "metadata": {},
   "outputs": [],
   "source": [
    "crosswalk = pd.read_csv(r'C:\\Users\\Vivek.Sujan\\OneDrive - TEG Business Solutions Pvt Ltd\\Work Data\\Plan Finder\\AEP 2023 Execution\\Benefit file Prep\\3. Crosswalk of benefits\\2. Input files\\Lscape_23_xwalkV2_AEP_new_JanV2.csv')"
   ]
  },
  {
   "cell_type": "code",
   "execution_count": 22,
   "id": "1d7f9939",
   "metadata": {},
   "outputs": [],
   "source": [
    "crosswalk=crosswalk[['State','County','Plan Crosswalk Description','BidId']]"
   ]
  },
  {
   "cell_type": "code",
   "execution_count": 23,
   "id": "08e14eec",
   "metadata": {},
   "outputs": [],
   "source": [
    "global_df = global_df.merge(crosswalk,left_on=['State','County','bid_id'],right_on=['State','County','BidId'],how='left')"
   ]
  },
  {
   "cell_type": "code",
   "execution_count": 24,
   "id": "ae4a51ef",
   "metadata": {},
   "outputs": [],
   "source": [
    "global_df = global_df[global_df['Plan Crosswalk Description'].isin(['New Plan',\"Initial Contract\"])]"
   ]
  },
  {
   "cell_type": "code",
   "execution_count": 25,
   "id": "83ca0ddb",
   "metadata": {},
   "outputs": [],
   "source": [
    "global_df = global_df[common_columns]"
   ]
  },
  {
   "cell_type": "code",
   "execution_count": 26,
   "id": "8b9621ad",
   "metadata": {},
   "outputs": [],
   "source": [
    "tpv_df = pd.read_excel(input_folder + r'\\TPV_jan2023_V3.xlsx')"
   ]
  },
  {
   "cell_type": "code",
   "execution_count": 27,
   "id": "f66c8ef0",
   "metadata": {},
   "outputs": [],
   "source": [
    "oopc_df = pd.read_excel(input_folder + r'\\OOPC_2023_Jan (1).xlsx')"
   ]
  },
  {
   "cell_type": "code",
   "execution_count": 28,
   "id": "b024af57",
   "metadata": {},
   "outputs": [
    {
     "data": {
      "text/plain": [
       "Index(['Contract_Number', 'Plan_ID', 'Segment_ID',\n",
       "       'Organization_Marketing_Name', 'Plan_Name', 'Benefit_Year',\n",
       "       'Inpatient_Hospital_Acute_Care', 'Inpatient_Mental_Health_Care',\n",
       "       'Skilled_Nursing_Facility', 'Cardiac_Rehabilitation_Services',\n",
       "       'Pulmonary_Rehab_Services', 'Emergency_Care', 'Urgently_Needed_Care',\n",
       "       'Home_Health_Agency', 'Primary_Care_Physician', 'Chiropractic_Services',\n",
       "       'Occupational_Therapy', 'Physician_Specialists',\n",
       "       'Outpatient_Mental_Health_Care', 'Podiatry_Services',\n",
       "       'Other_Health_Professionals', 'Psychiatric_Care',\n",
       "       'Physical_and_Speech_Therapy', 'Outpatient_Lab',\n",
       "       'Diagnostic_Tests_and_Procedures', 'Therapeutic_Radiation',\n",
       "       'Outpatient_X_Rays', 'Diagnostic_Radiological_Services',\n",
       "       'Outpatient_Hospital_Services', 'Ambulatory_Surgical_Center',\n",
       "       'Chemotherapy_Drugs', 'Ambulance', 'Durable_Medical_Equipment',\n",
       "       'Prosthetic_Devices', 'Renal_Dialysis', 'Diabetes_Education',\n",
       "       'Medicare_Covered_Part_B_Drugs', 'Preventative_Dental',\n",
       "       'Comprehensive_Dental', 'Eye_Exams', 'Hearing_Exams', 'Opioid',\n",
       "       'Total Part C', 'bid_id', 'HPLAN', 'Total Part D', 'Grand_Total'],\n",
       "      dtype='object')"
      ]
     },
     "execution_count": 28,
     "metadata": {},
     "output_type": "execute_result"
    }
   ],
   "source": [
    "oopc_df.columns"
   ]
  },
  {
   "cell_type": "code",
   "execution_count": 29,
   "id": "12e28d7c",
   "metadata": {},
   "outputs": [],
   "source": [
    "oopc_df = oopc_df[['bid_id','Grand_Total']]"
   ]
  },
  {
   "cell_type": "code",
   "execution_count": 30,
   "id": "ffe1ced0",
   "metadata": {},
   "outputs": [],
   "source": [
    "tpv_df = tpv_df[['State','County','bid_id','Total TPV ']]"
   ]
  },
  {
   "cell_type": "code",
   "execution_count": 31,
   "id": "2760179d",
   "metadata": {},
   "outputs": [],
   "source": [
    "tpv_df = tpv_df.groupby(['bid_id']).mean().reset_index()"
   ]
  },
  {
   "cell_type": "code",
   "execution_count": 32,
   "id": "7f3a4831",
   "metadata": {},
   "outputs": [
    {
     "data": {
      "text/plain": [
       "(10037, 115)"
      ]
     },
     "execution_count": 32,
     "metadata": {},
     "output_type": "execute_result"
    }
   ],
   "source": [
    "global_df.shape"
   ]
  },
  {
   "cell_type": "code",
   "execution_count": 33,
   "id": "793e37bb",
   "metadata": {},
   "outputs": [],
   "source": [
    "global_df = global_df.merge(tpv_df,on='bid_id',how='left')"
   ]
  },
  {
   "cell_type": "code",
   "execution_count": 34,
   "id": "ccacec69",
   "metadata": {},
   "outputs": [
    {
     "data": {
      "text/plain": [
       "(10037, 116)"
      ]
     },
     "execution_count": 34,
     "metadata": {},
     "output_type": "execute_result"
    }
   ],
   "source": [
    "global_df.shape"
   ]
  },
  {
   "cell_type": "code",
   "execution_count": 35,
   "id": "5a260fae",
   "metadata": {},
   "outputs": [],
   "source": [
    "global_df = global_df.merge(oopc_df,on=['bid_id'],how='left')"
   ]
  },
  {
   "cell_type": "code",
   "execution_count": 36,
   "id": "74b4c966",
   "metadata": {},
   "outputs": [],
   "source": [
    "global_df = pd.concat([global_df, final_df])"
   ]
  },
  {
   "cell_type": "code",
   "execution_count": 37,
   "id": "0c64965c",
   "metadata": {},
   "outputs": [
    {
     "data": {
      "text/plain": [
       "(10074, 117)"
      ]
     },
     "execution_count": 37,
     "metadata": {},
     "output_type": "execute_result"
    }
   ],
   "source": [
    "global_df.shape"
   ]
  },
  {
   "cell_type": "code",
   "execution_count": 38,
   "id": "0aed0cc0",
   "metadata": {},
   "outputs": [],
   "source": [
    "global_df['Total TPV '].fillna(0,inplace=True)"
   ]
  },
  {
   "cell_type": "code",
   "execution_count": 39,
   "id": "21f1c469",
   "metadata": {},
   "outputs": [],
   "source": [
    "global_df['Grand_Total'].fillna(0,inplace=True)"
   ]
  },
  {
   "cell_type": "markdown",
   "id": "e6467522",
   "metadata": {},
   "source": [
    "# Determine the number of segments"
   ]
  },
  {
   "cell_type": "code",
   "execution_count": 40,
   "id": "9d93a026",
   "metadata": {},
   "outputs": [],
   "source": [
    "df1 = global_df.copy(deep=True)"
   ]
  },
  {
   "cell_type": "code",
   "execution_count": 41,
   "id": "1b26c418",
   "metadata": {},
   "outputs": [
    {
     "data": {
      "text/plain": [
       "(10074, 117)"
      ]
     },
     "execution_count": 41,
     "metadata": {},
     "output_type": "execute_result"
    }
   ],
   "source": [
    "df1.shape"
   ]
  },
  {
   "cell_type": "code",
   "execution_count": null,
   "id": "a62ad04e",
   "metadata": {},
   "outputs": [],
   "source": []
  },
  {
   "cell_type": "code",
   "execution_count": 42,
   "id": "b8052e81",
   "metadata": {},
   "outputs": [],
   "source": [
    "df1.drop(['State','County'],axis=1,inplace=True)"
   ]
  },
  {
   "cell_type": "code",
   "execution_count": null,
   "id": "05a83352",
   "metadata": {},
   "outputs": [],
   "source": []
  },
  {
   "cell_type": "code",
   "execution_count": null,
   "id": "b1f88c3c",
   "metadata": {},
   "outputs": [],
   "source": []
  },
  {
   "cell_type": "code",
   "execution_count": 43,
   "id": "e5bf079a",
   "metadata": {},
   "outputs": [],
   "source": [
    "df1.drop_duplicates(inplace=True)"
   ]
  },
  {
   "cell_type": "code",
   "execution_count": 44,
   "id": "a414cc08",
   "metadata": {},
   "outputs": [],
   "source": [
    "selected_cols = df1.drop(['bid_id'],axis=1).copy(deep=True)"
   ]
  },
  {
   "cell_type": "code",
   "execution_count": 45,
   "id": "e3355303",
   "metadata": {},
   "outputs": [],
   "source": [
    "X = selected_cols"
   ]
  },
  {
   "cell_type": "markdown",
   "id": "ead05616",
   "metadata": {},
   "source": [
    "# Feature Scaling ?"
   ]
  },
  {
   "cell_type": "code",
   "execution_count": 46,
   "id": "3c701eb9",
   "metadata": {},
   "outputs": [],
   "source": [
    "weight_df = pd.read_csv(input_folder + r'\\weightages_for_benefits.csv')"
   ]
  },
  {
   "cell_type": "code",
   "execution_count": 47,
   "id": "36ff329e",
   "metadata": {},
   "outputs": [],
   "source": [
    "plan_features = ['In_network_MOOP_Amount',\"Monthly_Consolidated_Premium_C_D\",\"health_deductible\",\n",
    "                 \"Part_B_Reduction\",\"Annual_Drug_Deductible\",\"PartD_Premium\",'Total TPV ','Grand_Total']"
   ]
  },
  {
   "cell_type": "code",
   "execution_count": 48,
   "id": "149503aa",
   "metadata": {},
   "outputs": [],
   "source": [
    "second_set_benefits = weight_df[(weight_df['Weight number']==7) | (weight_df['Weight number']==8)]['Benefit_Columns'].unique().tolist()"
   ]
  },
  {
   "cell_type": "code",
   "execution_count": 49,
   "id": "b83fe4a7",
   "metadata": {},
   "outputs": [],
   "source": [
    "third_set_benefits = weight_df[(weight_df['Weight number']==5) | (weight_df['Weight number']==3)]['Benefit_Columns'].unique().tolist()"
   ]
  },
  {
   "cell_type": "code",
   "execution_count": 50,
   "id": "621a6ceb",
   "metadata": {},
   "outputs": [
    {
     "data": {
      "text/html": [
       "<div>\n",
       "<style scoped>\n",
       "    .dataframe tbody tr th:only-of-type {\n",
       "        vertical-align: middle;\n",
       "    }\n",
       "\n",
       "    .dataframe tbody tr th {\n",
       "        vertical-align: top;\n",
       "    }\n",
       "\n",
       "    .dataframe thead tr th {\n",
       "        text-align: left;\n",
       "    }\n",
       "</style>\n",
       "<table border=\"1\" class=\"dataframe\">\n",
       "  <thead>\n",
       "    <tr>\n",
       "      <th></th>\n",
       "      <th>b3_Cardiac</th>\n",
       "      <th>b14c10_In_Home_Safety_Assessment_OON</th>\n",
       "      <th>b14e_Diabetes</th>\n",
       "      <th>b14c16_Weight_Management_Programs_OON</th>\n",
       "      <th>b9b_Ambulatory_Surgical_Center_OON</th>\n",
       "      <th>b14c6_telemonitoring_OON</th>\n",
       "      <th>PartD_Premium</th>\n",
       "      <th>b14d_Kidney_Disease</th>\n",
       "      <th>b16a_Prev_Dental_mandatory</th>\n",
       "      <th>Brand_Drug_Cost</th>\n",
       "      <th>...</th>\n",
       "      <th>b14c14_Re_admission_Prevention_OON</th>\n",
       "      <th>b7a_Primary_Care_Physician</th>\n",
       "      <th>b17a_Eye_Exam_OON</th>\n",
       "      <th>b14c9_Counseling_Services</th>\n",
       "      <th>b7b_Chiropractic_Services_OON</th>\n",
       "      <th>b5_Partial_Hospitalization</th>\n",
       "      <th>Monthly_Consolidated_Premium_C_D</th>\n",
       "      <th>Annual_Drug_Deductible</th>\n",
       "      <th>Total TPV</th>\n",
       "      <th>Grand_Total</th>\n",
       "    </tr>\n",
       "  </thead>\n",
       "  <tbody>\n",
       "    <tr>\n",
       "      <th>0</th>\n",
       "      <td>1.000000</td>\n",
       "      <td>1.0</td>\n",
       "      <td>0.4</td>\n",
       "      <td>1.0</td>\n",
       "      <td>0.583970</td>\n",
       "      <td>1.0</td>\n",
       "      <td>0.043405</td>\n",
       "      <td>0.0</td>\n",
       "      <td>0.0</td>\n",
       "      <td>0.029132</td>\n",
       "      <td>...</td>\n",
       "      <td>1.0</td>\n",
       "      <td>1.000000</td>\n",
       "      <td>0.116710</td>\n",
       "      <td>1.0</td>\n",
       "      <td>0.714307</td>\n",
       "      <td>0.733333</td>\n",
       "      <td>0.132864</td>\n",
       "      <td>0.335548</td>\n",
       "      <td>0.683332</td>\n",
       "      <td>0.806728</td>\n",
       "    </tr>\n",
       "    <tr>\n",
       "      <th>1</th>\n",
       "      <td>0.093060</td>\n",
       "      <td>1.0</td>\n",
       "      <td>0.0</td>\n",
       "      <td>1.0</td>\n",
       "      <td>0.778626</td>\n",
       "      <td>1.0</td>\n",
       "      <td>0.000000</td>\n",
       "      <td>0.0</td>\n",
       "      <td>0.0</td>\n",
       "      <td>0.025889</td>\n",
       "      <td>...</td>\n",
       "      <td>1.0</td>\n",
       "      <td>0.000000</td>\n",
       "      <td>0.077807</td>\n",
       "      <td>1.0</td>\n",
       "      <td>0.741983</td>\n",
       "      <td>0.333333</td>\n",
       "      <td>0.000000</td>\n",
       "      <td>0.000000</td>\n",
       "      <td>0.643778</td>\n",
       "      <td>0.650445</td>\n",
       "    </tr>\n",
       "    <tr>\n",
       "      <th>2</th>\n",
       "      <td>0.139591</td>\n",
       "      <td>1.0</td>\n",
       "      <td>0.0</td>\n",
       "      <td>1.0</td>\n",
       "      <td>0.121634</td>\n",
       "      <td>1.0</td>\n",
       "      <td>0.000000</td>\n",
       "      <td>0.0</td>\n",
       "      <td>0.0</td>\n",
       "      <td>0.020226</td>\n",
       "      <td>...</td>\n",
       "      <td>1.0</td>\n",
       "      <td>0.065802</td>\n",
       "      <td>0.075807</td>\n",
       "      <td>1.0</td>\n",
       "      <td>0.705024</td>\n",
       "      <td>0.933333</td>\n",
       "      <td>0.000000</td>\n",
       "      <td>0.000000</td>\n",
       "      <td>0.616696</td>\n",
       "      <td>0.631772</td>\n",
       "    </tr>\n",
       "    <tr>\n",
       "      <th>3</th>\n",
       "      <td>0.139591</td>\n",
       "      <td>1.0</td>\n",
       "      <td>0.0</td>\n",
       "      <td>1.0</td>\n",
       "      <td>0.681298</td>\n",
       "      <td>1.0</td>\n",
       "      <td>0.000000</td>\n",
       "      <td>0.0</td>\n",
       "      <td>0.0</td>\n",
       "      <td>0.020226</td>\n",
       "      <td>...</td>\n",
       "      <td>1.0</td>\n",
       "      <td>0.000000</td>\n",
       "      <td>0.116710</td>\n",
       "      <td>1.0</td>\n",
       "      <td>0.769658</td>\n",
       "      <td>0.933333</td>\n",
       "      <td>0.000000</td>\n",
       "      <td>0.000000</td>\n",
       "      <td>0.601900</td>\n",
       "      <td>0.630414</td>\n",
       "    </tr>\n",
       "    <tr>\n",
       "      <th>4</th>\n",
       "      <td>0.093060</td>\n",
       "      <td>1.0</td>\n",
       "      <td>0.0</td>\n",
       "      <td>1.0</td>\n",
       "      <td>0.681298</td>\n",
       "      <td>1.0</td>\n",
       "      <td>0.000000</td>\n",
       "      <td>0.0</td>\n",
       "      <td>0.0</td>\n",
       "      <td>0.021844</td>\n",
       "      <td>...</td>\n",
       "      <td>1.0</td>\n",
       "      <td>0.000000</td>\n",
       "      <td>0.116710</td>\n",
       "      <td>1.0</td>\n",
       "      <td>0.769658</td>\n",
       "      <td>0.800000</td>\n",
       "      <td>0.000000</td>\n",
       "      <td>0.000000</td>\n",
       "      <td>0.539857</td>\n",
       "      <td>0.665800</td>\n",
       "    </tr>\n",
       "  </tbody>\n",
       "</table>\n",
       "<p>5 rows × 114 columns</p>\n",
       "</div>"
      ],
      "text/plain": [
       "  b3_Cardiac b14c10_In_Home_Safety_Assessment_OON b14e_Diabetes  \\\n",
       "0   1.000000                                  1.0           0.4   \n",
       "1   0.093060                                  1.0           0.0   \n",
       "2   0.139591                                  1.0           0.0   \n",
       "3   0.139591                                  1.0           0.0   \n",
       "4   0.093060                                  1.0           0.0   \n",
       "\n",
       "  b14c16_Weight_Management_Programs_OON b9b_Ambulatory_Surgical_Center_OON  \\\n",
       "0                                   1.0                           0.583970   \n",
       "1                                   1.0                           0.778626   \n",
       "2                                   1.0                           0.121634   \n",
       "3                                   1.0                           0.681298   \n",
       "4                                   1.0                           0.681298   \n",
       "\n",
       "  b14c6_telemonitoring_OON PartD_Premium b14d_Kidney_Disease  \\\n",
       "0                      1.0      0.043405                 0.0   \n",
       "1                      1.0      0.000000                 0.0   \n",
       "2                      1.0      0.000000                 0.0   \n",
       "3                      1.0      0.000000                 0.0   \n",
       "4                      1.0      0.000000                 0.0   \n",
       "\n",
       "  b16a_Prev_Dental_mandatory Brand_Drug_Cost  ...  \\\n",
       "0                        0.0        0.029132  ...   \n",
       "1                        0.0        0.025889  ...   \n",
       "2                        0.0        0.020226  ...   \n",
       "3                        0.0        0.020226  ...   \n",
       "4                        0.0        0.021844  ...   \n",
       "\n",
       "  b14c14_Re_admission_Prevention_OON b7a_Primary_Care_Physician  \\\n",
       "0                                1.0                   1.000000   \n",
       "1                                1.0                   0.000000   \n",
       "2                                1.0                   0.065802   \n",
       "3                                1.0                   0.000000   \n",
       "4                                1.0                   0.000000   \n",
       "\n",
       "  b17a_Eye_Exam_OON b14c9_Counseling_Services b7b_Chiropractic_Services_OON  \\\n",
       "0          0.116710                       1.0                      0.714307   \n",
       "1          0.077807                       1.0                      0.741983   \n",
       "2          0.075807                       1.0                      0.705024   \n",
       "3          0.116710                       1.0                      0.769658   \n",
       "4          0.116710                       1.0                      0.769658   \n",
       "\n",
       "  b5_Partial_Hospitalization Monthly_Consolidated_Premium_C_D  \\\n",
       "0                   0.733333                         0.132864   \n",
       "1                   0.333333                         0.000000   \n",
       "2                   0.933333                         0.000000   \n",
       "3                   0.933333                         0.000000   \n",
       "4                   0.800000                         0.000000   \n",
       "\n",
       "  Annual_Drug_Deductible Total TPV  Grand_Total  \n",
       "0               0.335548   0.683332    0.806728  \n",
       "1               0.000000   0.643778    0.650445  \n",
       "2               0.000000   0.616696    0.631772  \n",
       "3               0.000000   0.601900    0.630414  \n",
       "4               0.000000   0.539857    0.665800  \n",
       "\n",
       "[5 rows x 114 columns]"
      ]
     },
     "execution_count": 50,
     "metadata": {},
     "output_type": "execute_result"
    }
   ],
   "source": [
    "cols = X.columns\n",
    "\n",
    "from sklearn.preprocessing import MinMaxScaler\n",
    "\n",
    "ms = MinMaxScaler()\n",
    "\n",
    "X = ms.fit_transform(X)\n",
    "\n",
    "X = pd.DataFrame(X, columns=[cols])\n",
    "\n",
    "X.head()"
   ]
  },
  {
   "cell_type": "code",
   "execution_count": 51,
   "id": "288af9f0",
   "metadata": {},
   "outputs": [
    {
     "data": {
      "text/plain": [
       "b17a_Eye_Exam_mandatory    0.0\n",
       "dtype: float64"
      ]
     },
     "execution_count": 51,
     "metadata": {},
     "output_type": "execute_result"
    }
   ],
   "source": [
    "X['b17a_Eye_Exam_mandatory'].min()"
   ]
  },
  {
   "cell_type": "code",
   "execution_count": 52,
   "id": "3082b3e0",
   "metadata": {},
   "outputs": [
    {
     "data": {
      "text/plain": [
       "b17a_Eye_Exam_mandatory    1.0\n",
       "dtype: float64"
      ]
     },
     "execution_count": 52,
     "metadata": {},
     "output_type": "execute_result"
    }
   ],
   "source": [
    "X['b17a_Eye_Exam_mandatory'].max()"
   ]
  },
  {
   "cell_type": "markdown",
   "id": "503ba354",
   "metadata": {},
   "source": [
    "# First Set"
   ]
  },
  {
   "cell_type": "code",
   "execution_count": null,
   "id": "bab66bae",
   "metadata": {},
   "outputs": [],
   "source": []
  },
  {
   "cell_type": "code",
   "execution_count": 53,
   "id": "7d3faf63",
   "metadata": {},
   "outputs": [],
   "source": [
    "Stored = X.copy(deep=True)"
   ]
  },
  {
   "cell_type": "code",
   "execution_count": 54,
   "id": "c715ea98",
   "metadata": {},
   "outputs": [],
   "source": [
    "X = X[plan_features]"
   ]
  },
  {
   "cell_type": "code",
   "execution_count": 55,
   "id": "5ae9ac84",
   "metadata": {},
   "outputs": [],
   "source": [
    "from sklearn.cluster import KMeans\n",
    "\n",
    "cs = []\n",
    "\n",
    "for i in range(1, 11):\n",
    "    kmeans = KMeans(n_clusters = i, init = 'k-means++', max_iter = 300, n_init = 10, random_state = 0)\n",
    "    kmeans.fit(X)\n",
    "    cs.append(kmeans.inertia_)"
   ]
  },
  {
   "cell_type": "code",
   "execution_count": 56,
   "id": "2fe45818",
   "metadata": {},
   "outputs": [
    {
     "data": {
      "image/png": "[encoded data removed]",
      "text/plain": [
       "<Figure size 432x288 with 1 Axes>"
      ]
     },
     "metadata": {
      "needs_background": "light"
     },
     "output_type": "display_data"
    }
   ],
   "source": [
    "plt.plot(range(1,11), cs)\n",
    "plt.title(\"Elbow Plot\")\n",
    "plt.xlabel(\"Number of Clusters\")\n",
    "plt.ylabel(\"CS\")\n",
    "plt.show()"
   ]
  },
  {
   "cell_type": "markdown",
   "id": "03280b28",
   "metadata": {},
   "source": [
    "with 2 clusters"
   ]
  },
  {
   "cell_type": "code",
   "execution_count": 57,
   "id": "4bf92d65",
   "metadata": {},
   "outputs": [],
   "source": [
    "from sklearn.cluster import KMeans\n",
    "\n",
    "kmeans = KMeans(n_clusters=2, random_state=0) \n",
    "\n",
    "kmeans.fit(X)\n",
    "labels_2_clusters = kmeans.labels_"
   ]
  },
  {
   "cell_type": "code",
   "execution_count": 58,
   "id": "e42d2ab9",
   "metadata": {},
   "outputs": [
    {
     "data": {
      "text/plain": [
       "56.37227055176266"
      ]
     },
     "execution_count": 58,
     "metadata": {},
     "output_type": "execute_result"
    }
   ],
   "source": [
    "kmeans.inertia_ "
   ]
  },
  {
   "cell_type": "markdown",
   "id": "2d03ae60",
   "metadata": {},
   "source": [
    "with 3 clusters"
   ]
  },
  {
   "cell_type": "code",
   "execution_count": 59,
   "id": "a97394ba",
   "metadata": {},
   "outputs": [],
   "source": [
    "kmeans = KMeans(n_clusters=3, random_state=0)\n",
    "\n",
    "kmeans.fit(X)\n",
    "\n",
    "# check how many of the samples were correctly labeled\n",
    "labels_3_clusters = kmeans.labels_\n",
    "\n",
    "# correct_labels = sum(y == labels)\n",
    "# print(\"Result: %d out of %d samples were correctly labeled.\" % (correct_labels, y.size))\n",
    "# print('Accuracy score: {0:0.2f}'. format(correct_labels/float(y.size)))"
   ]
  },
  {
   "cell_type": "code",
   "execution_count": 60,
   "id": "60053fdd",
   "metadata": {},
   "outputs": [
    {
     "data": {
      "text/plain": [
       "44.50075530761557"
      ]
     },
     "execution_count": 60,
     "metadata": {},
     "output_type": "execute_result"
    }
   ],
   "source": [
    "kmeans.inertia_ "
   ]
  },
  {
   "cell_type": "markdown",
   "id": "e2b572b5",
   "metadata": {},
   "source": [
    "with 4 clusters"
   ]
  },
  {
   "cell_type": "code",
   "execution_count": 61,
   "id": "48ba0fae",
   "metadata": {},
   "outputs": [],
   "source": [
    "kmeans = KMeans(n_clusters=4, random_state=0)\n",
    "\n",
    "kmeans.fit(X)\n",
    "\n",
    "# check how many of the samples were correctly labeled\n",
    "labels_4_clusters = kmeans.labels_"
   ]
  },
  {
   "cell_type": "code",
   "execution_count": 62,
   "id": "325af4fb",
   "metadata": {},
   "outputs": [
    {
     "data": {
      "text/plain": [
       "37.62645957503516"
      ]
     },
     "execution_count": 62,
     "metadata": {},
     "output_type": "execute_result"
    }
   ],
   "source": [
    "kmeans.inertia_ "
   ]
  },
  {
   "cell_type": "markdown",
   "id": "0d82a588",
   "metadata": {},
   "source": [
    "with 5 clusters"
   ]
  },
  {
   "cell_type": "code",
   "execution_count": 63,
   "id": "08d48d48",
   "metadata": {},
   "outputs": [],
   "source": [
    "kmeans = KMeans(n_clusters=5, random_state=0)\n",
    "\n",
    "kmeans.fit(X)\n",
    "\n",
    "# check how many of the samples were correctly labeled\n",
    "labels_5_clusters = kmeans.labels_"
   ]
  },
  {
   "cell_type": "code",
   "execution_count": 64,
   "id": "289c748f",
   "metadata": {},
   "outputs": [
    {
     "data": {
      "text/plain": [
       "31.072083492772002"
      ]
     },
     "execution_count": 64,
     "metadata": {},
     "output_type": "execute_result"
    }
   ],
   "source": [
    "kmeans.inertia_ "
   ]
  },
  {
   "cell_type": "markdown",
   "id": "e4ffb955",
   "metadata": {},
   "source": [
    "with 6 clusters"
   ]
  },
  {
   "cell_type": "code",
   "execution_count": 65,
   "id": "dfdd6f11",
   "metadata": {},
   "outputs": [],
   "source": [
    "kmeans = KMeans(n_clusters=6, random_state=0)\n",
    "\n",
    "kmeans.fit(X)\n",
    "\n",
    "# check how many of the samples were correctly labeled\n",
    "labels_6_clusters = kmeans.labels_"
   ]
  },
  {
   "cell_type": "code",
   "execution_count": 66,
   "id": "40527f57",
   "metadata": {},
   "outputs": [
    {
     "data": {
      "text/plain": [
       "26.744162556957015"
      ]
     },
     "execution_count": 66,
     "metadata": {},
     "output_type": "execute_result"
    }
   ],
   "source": [
    "kmeans.inertia_ "
   ]
  },
  {
   "cell_type": "code",
   "execution_count": 67,
   "id": "07fceecf",
   "metadata": {},
   "outputs": [],
   "source": [
    "kmeans = KMeans(n_clusters=7, random_state=0)\n",
    "\n",
    "kmeans.fit(X)\n",
    "\n",
    "# check how many of the samples were correctly labeled\n",
    "labels_7_clusters = kmeans.labels_"
   ]
  },
  {
   "cell_type": "code",
   "execution_count": 68,
   "id": "e1ad7025",
   "metadata": {},
   "outputs": [
    {
     "data": {
      "text/plain": [
       "23.991489485946953"
      ]
     },
     "execution_count": 68,
     "metadata": {},
     "output_type": "execute_result"
    }
   ],
   "source": [
    "kmeans.inertia_ "
   ]
  },
  {
   "cell_type": "code",
   "execution_count": 69,
   "id": "763b95b4",
   "metadata": {},
   "outputs": [],
   "source": [
    "kmeans = KMeans(n_clusters=8, random_state=0)\n",
    "\n",
    "kmeans.fit(X)\n",
    "\n",
    "# check how many of the samples were correctly labeled\n",
    "labels_8_clusters = kmeans.labels_"
   ]
  },
  {
   "cell_type": "code",
   "execution_count": 70,
   "id": "f3559181",
   "metadata": {},
   "outputs": [
    {
     "data": {
      "text/plain": [
       "21.21395722003547"
      ]
     },
     "execution_count": 70,
     "metadata": {},
     "output_type": "execute_result"
    }
   ],
   "source": [
    "kmeans.inertia_ "
   ]
  },
  {
   "cell_type": "code",
   "execution_count": null,
   "id": "08eeb4ea",
   "metadata": {},
   "outputs": [],
   "source": []
  },
  {
   "cell_type": "code",
   "execution_count": 71,
   "id": "6a873c37",
   "metadata": {},
   "outputs": [],
   "source": [
    "df1['2_cluster_label'] = labels_2_clusters"
   ]
  },
  {
   "cell_type": "code",
   "execution_count": 72,
   "id": "9b0eb860",
   "metadata": {},
   "outputs": [],
   "source": [
    "df1['3_cluster_label'] = labels_3_clusters"
   ]
  },
  {
   "cell_type": "code",
   "execution_count": 73,
   "id": "9bb782a0",
   "metadata": {},
   "outputs": [],
   "source": [
    "df1['4_cluster_label'] = labels_4_clusters"
   ]
  },
  {
   "cell_type": "code",
   "execution_count": 74,
   "id": "70a9b4ef",
   "metadata": {},
   "outputs": [],
   "source": [
    "df1['5_cluster_label'] = labels_5_clusters"
   ]
  },
  {
   "cell_type": "code",
   "execution_count": 75,
   "id": "bfd7416f",
   "metadata": {},
   "outputs": [],
   "source": [
    "df1['5_cluster_label'] = labels_5_clusters"
   ]
  },
  {
   "cell_type": "code",
   "execution_count": 76,
   "id": "6d55ad53",
   "metadata": {},
   "outputs": [
    {
     "data": {
      "text/plain": [
       "['2_cluster_label', '3_cluster_label']"
      ]
     },
     "execution_count": 76,
     "metadata": {},
     "output_type": "execute_result"
    }
   ],
   "source": [
    "[\"2_cluster_label\",\"3_cluster_label\"]"
   ]
  },
  {
   "cell_type": "code",
   "execution_count": 77,
   "id": "3b55f96e",
   "metadata": {},
   "outputs": [],
   "source": [
    "df1[plan_features + [\"5_cluster_label\",\"3_cluster_label\",\"bid_id\"]].to_csv(output_folder + r'\\Level_1_Clustering_w_TPV.csv',index=False)"
   ]
  },
  {
   "cell_type": "code",
   "execution_count": 78,
   "id": "186f8489",
   "metadata": {},
   "outputs": [],
   "source": [
    "df1.drop([\"2_cluster_label\",\"5_cluster_label\",\"4_cluster_label\"],axis=1,inplace=True)"
   ]
  },
  {
   "cell_type": "code",
   "execution_count": 79,
   "id": "f27d6bb2",
   "metadata": {},
   "outputs": [],
   "source": [
    "# set0_data = df1[df1['5_cluster_label']==0]"
   ]
  },
  {
   "cell_type": "code",
   "execution_count": 80,
   "id": "7423f0c6",
   "metadata": {},
   "outputs": [],
   "source": [
    "# set1_data = df1[df1['5_cluster_label']==1]"
   ]
  },
  {
   "cell_type": "code",
   "execution_count": 81,
   "id": "94376ab6",
   "metadata": {},
   "outputs": [],
   "source": [
    "set0_data = df1[df1['3_cluster_label']==2]"
   ]
  },
  {
   "cell_type": "code",
   "execution_count": 82,
   "id": "cd62a860",
   "metadata": {},
   "outputs": [],
   "source": [
    "# set3_data = df1[df1['5_cluster_label']==3]"
   ]
  },
  {
   "cell_type": "code",
   "execution_count": 83,
   "id": "8d415063",
   "metadata": {},
   "outputs": [],
   "source": [
    "set0_data.drop(['3_cluster_label'],axis=1,inplace=True)"
   ]
  },
  {
   "cell_type": "code",
   "execution_count": 84,
   "id": "47587d50",
   "metadata": {},
   "outputs": [],
   "source": [
    "# set1_data.drop(['4_cluster_label'],axis=1,inplace=True)"
   ]
  },
  {
   "cell_type": "code",
   "execution_count": 85,
   "id": "3c9d4a3a",
   "metadata": {},
   "outputs": [],
   "source": [
    "# set2_data.drop(['4_cluster_label'],axis=1,inplace=True)"
   ]
  },
  {
   "cell_type": "code",
   "execution_count": 86,
   "id": "907eb21c",
   "metadata": {},
   "outputs": [],
   "source": [
    "# set3_data.drop(['4_cluster_label'],axis=1,inplace=True)"
   ]
  },
  {
   "cell_type": "code",
   "execution_count": 87,
   "id": "b098815b",
   "metadata": {},
   "outputs": [
    {
     "data": {
      "text/html": [
       "<div>\n",
       "<style scoped>\n",
       "    .dataframe tbody tr th:only-of-type {\n",
       "        vertical-align: middle;\n",
       "    }\n",
       "\n",
       "    .dataframe tbody tr th {\n",
       "        vertical-align: top;\n",
       "    }\n",
       "\n",
       "    .dataframe thead th {\n",
       "        text-align: right;\n",
       "    }\n",
       "</style>\n",
       "<table border=\"1\" class=\"dataframe\">\n",
       "  <thead>\n",
       "    <tr style=\"text-align: right;\">\n",
       "      <th></th>\n",
       "      <th>b3_Cardiac</th>\n",
       "      <th>b14c10_In_Home_Safety_Assessment_OON</th>\n",
       "      <th>b14e_Diabetes</th>\n",
       "      <th>b14c16_Weight_Management_Programs_OON</th>\n",
       "      <th>b9b_Ambulatory_Surgical_Center_OON</th>\n",
       "      <th>b14c6_telemonitoring_OON</th>\n",
       "      <th>PartD_Premium</th>\n",
       "      <th>b14d_Kidney_Disease</th>\n",
       "      <th>b16a_Prev_Dental_mandatory</th>\n",
       "      <th>Brand_Drug_Cost</th>\n",
       "      <th>...</th>\n",
       "      <th>b14c14_Re_admission_Prevention_OON</th>\n",
       "      <th>b7a_Primary_Care_Physician</th>\n",
       "      <th>b17a_Eye_Exam_OON</th>\n",
       "      <th>b14c9_Counseling_Services</th>\n",
       "      <th>b7b_Chiropractic_Services_OON</th>\n",
       "      <th>b5_Partial_Hospitalization</th>\n",
       "      <th>Monthly_Consolidated_Premium_C_D</th>\n",
       "      <th>Annual_Drug_Deductible</th>\n",
       "      <th>Total TPV</th>\n",
       "      <th>Grand_Total</th>\n",
       "    </tr>\n",
       "  </thead>\n",
       "  <tbody>\n",
       "    <tr>\n",
       "      <th>67</th>\n",
       "      <td>8.024343</td>\n",
       "      <td>0.830286</td>\n",
       "      <td>0.0</td>\n",
       "      <td>0.830286</td>\n",
       "      <td>13.241101</td>\n",
       "      <td>558.630931</td>\n",
       "      <td>0.0</td>\n",
       "      <td>0.000000</td>\n",
       "      <td>0.0</td>\n",
       "      <td>40.176216</td>\n",
       "      <td>...</td>\n",
       "      <td>0.830286</td>\n",
       "      <td>0.000000</td>\n",
       "      <td>1.972000</td>\n",
       "      <td>10.868164</td>\n",
       "      <td>9.840078</td>\n",
       "      <td>18.817218</td>\n",
       "      <td>0.0</td>\n",
       "      <td>0.0</td>\n",
       "      <td>238.758947</td>\n",
       "      <td>218.088896</td>\n",
       "    </tr>\n",
       "    <tr>\n",
       "      <th>79</th>\n",
       "      <td>8.049576</td>\n",
       "      <td>0.830286</td>\n",
       "      <td>0.0</td>\n",
       "      <td>0.830286</td>\n",
       "      <td>2.068470</td>\n",
       "      <td>558.630931</td>\n",
       "      <td>0.0</td>\n",
       "      <td>0.000000</td>\n",
       "      <td>0.0</td>\n",
       "      <td>34.192524</td>\n",
       "      <td>...</td>\n",
       "      <td>0.830286</td>\n",
       "      <td>0.597276</td>\n",
       "      <td>1.921316</td>\n",
       "      <td>10.868164</td>\n",
       "      <td>9.383968</td>\n",
       "      <td>52.688209</td>\n",
       "      <td>0.0</td>\n",
       "      <td>0.0</td>\n",
       "      <td>228.714910</td>\n",
       "      <td>211.827973</td>\n",
       "    </tr>\n",
       "    <tr>\n",
       "      <th>94</th>\n",
       "      <td>8.049576</td>\n",
       "      <td>0.830286</td>\n",
       "      <td>0.0</td>\n",
       "      <td>0.830286</td>\n",
       "      <td>11.585963</td>\n",
       "      <td>558.630931</td>\n",
       "      <td>0.0</td>\n",
       "      <td>0.000000</td>\n",
       "      <td>0.0</td>\n",
       "      <td>34.192524</td>\n",
       "      <td>...</td>\n",
       "      <td>0.830286</td>\n",
       "      <td>0.000000</td>\n",
       "      <td>2.958000</td>\n",
       "      <td>10.868164</td>\n",
       "      <td>10.181628</td>\n",
       "      <td>52.688209</td>\n",
       "      <td>0.0</td>\n",
       "      <td>0.0</td>\n",
       "      <td>223.227770</td>\n",
       "      <td>211.372668</td>\n",
       "    </tr>\n",
       "    <tr>\n",
       "      <th>107</th>\n",
       "      <td>8.024343</td>\n",
       "      <td>0.830286</td>\n",
       "      <td>0.0</td>\n",
       "      <td>0.830286</td>\n",
       "      <td>11.585963</td>\n",
       "      <td>558.630931</td>\n",
       "      <td>0.0</td>\n",
       "      <td>0.000000</td>\n",
       "      <td>0.0</td>\n",
       "      <td>35.902150</td>\n",
       "      <td>...</td>\n",
       "      <td>0.830286</td>\n",
       "      <td>0.000000</td>\n",
       "      <td>2.958000</td>\n",
       "      <td>10.868164</td>\n",
       "      <td>10.181628</td>\n",
       "      <td>45.161322</td>\n",
       "      <td>0.0</td>\n",
       "      <td>0.0</td>\n",
       "      <td>200.217765</td>\n",
       "      <td>223.237158</td>\n",
       "    </tr>\n",
       "    <tr>\n",
       "      <th>109</th>\n",
       "      <td>8.074809</td>\n",
       "      <td>0.830286</td>\n",
       "      <td>0.0</td>\n",
       "      <td>0.000000</td>\n",
       "      <td>3.102706</td>\n",
       "      <td>558.630931</td>\n",
       "      <td>0.0</td>\n",
       "      <td>0.000000</td>\n",
       "      <td>0.0</td>\n",
       "      <td>40.176216</td>\n",
       "      <td>...</td>\n",
       "      <td>0.830286</td>\n",
       "      <td>0.000000</td>\n",
       "      <td>0.326360</td>\n",
       "      <td>10.868164</td>\n",
       "      <td>9.687331</td>\n",
       "      <td>45.161322</td>\n",
       "      <td>0.0</td>\n",
       "      <td>0.0</td>\n",
       "      <td>250.719013</td>\n",
       "      <td>208.852842</td>\n",
       "    </tr>\n",
       "    <tr>\n",
       "      <th>...</th>\n",
       "      <td>...</td>\n",
       "      <td>...</td>\n",
       "      <td>...</td>\n",
       "      <td>...</td>\n",
       "      <td>...</td>\n",
       "      <td>...</td>\n",
       "      <td>...</td>\n",
       "      <td>...</td>\n",
       "      <td>...</td>\n",
       "      <td>...</td>\n",
       "      <td>...</td>\n",
       "      <td>...</td>\n",
       "      <td>...</td>\n",
       "      <td>...</td>\n",
       "      <td>...</td>\n",
       "      <td>...</td>\n",
       "      <td>...</td>\n",
       "      <td>...</td>\n",
       "      <td>...</td>\n",
       "      <td>...</td>\n",
       "      <td>...</td>\n",
       "    </tr>\n",
       "    <tr>\n",
       "      <th>16</th>\n",
       "      <td>8.069157</td>\n",
       "      <td>0.830286</td>\n",
       "      <td>0.0</td>\n",
       "      <td>0.830286</td>\n",
       "      <td>16.551376</td>\n",
       "      <td>558.630931</td>\n",
       "      <td>0.0</td>\n",
       "      <td>0.236101</td>\n",
       "      <td>0.0</td>\n",
       "      <td>40.176216</td>\n",
       "      <td>...</td>\n",
       "      <td>0.830286</td>\n",
       "      <td>0.000000</td>\n",
       "      <td>2.284520</td>\n",
       "      <td>8.748031</td>\n",
       "      <td>1.707750</td>\n",
       "      <td>41.397879</td>\n",
       "      <td>0.0</td>\n",
       "      <td>0.0</td>\n",
       "      <td>0.000000</td>\n",
       "      <td>0.000000</td>\n",
       "    </tr>\n",
       "    <tr>\n",
       "      <th>18</th>\n",
       "      <td>8.069157</td>\n",
       "      <td>0.830286</td>\n",
       "      <td>0.0</td>\n",
       "      <td>0.830286</td>\n",
       "      <td>16.551376</td>\n",
       "      <td>558.630931</td>\n",
       "      <td>0.0</td>\n",
       "      <td>0.236101</td>\n",
       "      <td>0.0</td>\n",
       "      <td>40.176216</td>\n",
       "      <td>...</td>\n",
       "      <td>0.830286</td>\n",
       "      <td>0.000000</td>\n",
       "      <td>2.284520</td>\n",
       "      <td>8.748031</td>\n",
       "      <td>1.707750</td>\n",
       "      <td>41.397879</td>\n",
       "      <td>0.0</td>\n",
       "      <td>0.0</td>\n",
       "      <td>0.000000</td>\n",
       "      <td>0.000000</td>\n",
       "    </tr>\n",
       "    <tr>\n",
       "      <th>21</th>\n",
       "      <td>8.069157</td>\n",
       "      <td>0.830286</td>\n",
       "      <td>0.0</td>\n",
       "      <td>0.830286</td>\n",
       "      <td>16.551376</td>\n",
       "      <td>558.630931</td>\n",
       "      <td>0.0</td>\n",
       "      <td>0.236101</td>\n",
       "      <td>0.0</td>\n",
       "      <td>40.176216</td>\n",
       "      <td>...</td>\n",
       "      <td>0.830286</td>\n",
       "      <td>0.000000</td>\n",
       "      <td>2.284520</td>\n",
       "      <td>8.748031</td>\n",
       "      <td>1.707750</td>\n",
       "      <td>41.397879</td>\n",
       "      <td>0.0</td>\n",
       "      <td>0.0</td>\n",
       "      <td>0.000000</td>\n",
       "      <td>0.000000</td>\n",
       "    </tr>\n",
       "    <tr>\n",
       "      <th>26</th>\n",
       "      <td>8.069157</td>\n",
       "      <td>0.830286</td>\n",
       "      <td>0.0</td>\n",
       "      <td>0.830286</td>\n",
       "      <td>16.551376</td>\n",
       "      <td>558.630931</td>\n",
       "      <td>0.0</td>\n",
       "      <td>0.236101</td>\n",
       "      <td>0.0</td>\n",
       "      <td>40.176216</td>\n",
       "      <td>...</td>\n",
       "      <td>0.830286</td>\n",
       "      <td>0.000000</td>\n",
       "      <td>2.284520</td>\n",
       "      <td>8.748031</td>\n",
       "      <td>1.707750</td>\n",
       "      <td>41.397879</td>\n",
       "      <td>0.0</td>\n",
       "      <td>0.0</td>\n",
       "      <td>0.000000</td>\n",
       "      <td>0.000000</td>\n",
       "    </tr>\n",
       "    <tr>\n",
       "      <th>33</th>\n",
       "      <td>8.069157</td>\n",
       "      <td>0.830286</td>\n",
       "      <td>0.0</td>\n",
       "      <td>0.830286</td>\n",
       "      <td>16.551376</td>\n",
       "      <td>558.630931</td>\n",
       "      <td>0.0</td>\n",
       "      <td>0.236101</td>\n",
       "      <td>0.0</td>\n",
       "      <td>40.176216</td>\n",
       "      <td>...</td>\n",
       "      <td>0.830286</td>\n",
       "      <td>0.000000</td>\n",
       "      <td>2.284520</td>\n",
       "      <td>8.748031</td>\n",
       "      <td>1.707750</td>\n",
       "      <td>41.397879</td>\n",
       "      <td>0.0</td>\n",
       "      <td>0.0</td>\n",
       "      <td>0.000000</td>\n",
       "      <td>0.000000</td>\n",
       "    </tr>\n",
       "  </tbody>\n",
       "</table>\n",
       "<p>186 rows × 115 columns</p>\n",
       "</div>"
      ],
      "text/plain": [
       "     b3_Cardiac  b14c10_In_Home_Safety_Assessment_OON  b14e_Diabetes  \\\n",
       "67     8.024343                              0.830286            0.0   \n",
       "79     8.049576                              0.830286            0.0   \n",
       "94     8.049576                              0.830286            0.0   \n",
       "107    8.024343                              0.830286            0.0   \n",
       "109    8.074809                              0.830286            0.0   \n",
       "..          ...                                   ...            ...   \n",
       "16     8.069157                              0.830286            0.0   \n",
       "18     8.069157                              0.830286            0.0   \n",
       "21     8.069157                              0.830286            0.0   \n",
       "26     8.069157                              0.830286            0.0   \n",
       "33     8.069157                              0.830286            0.0   \n",
       "\n",
       "     b14c16_Weight_Management_Programs_OON  \\\n",
       "67                                0.830286   \n",
       "79                                0.830286   \n",
       "94                                0.830286   \n",
       "107                               0.830286   \n",
       "109                               0.000000   \n",
       "..                                     ...   \n",
       "16                                0.830286   \n",
       "18                                0.830286   \n",
       "21                                0.830286   \n",
       "26                                0.830286   \n",
       "33                                0.830286   \n",
       "\n",
       "     b9b_Ambulatory_Surgical_Center_OON  b14c6_telemonitoring_OON  \\\n",
       "67                            13.241101                558.630931   \n",
       "79                             2.068470                558.630931   \n",
       "94                            11.585963                558.630931   \n",
       "107                           11.585963                558.630931   \n",
       "109                            3.102706                558.630931   \n",
       "..                                  ...                       ...   \n",
       "16                            16.551376                558.630931   \n",
       "18                            16.551376                558.630931   \n",
       "21                            16.551376                558.630931   \n",
       "26                            16.551376                558.630931   \n",
       "33                            16.551376                558.630931   \n",
       "\n",
       "     PartD_Premium  b14d_Kidney_Disease  b16a_Prev_Dental_mandatory  \\\n",
       "67             0.0             0.000000                         0.0   \n",
       "79             0.0             0.000000                         0.0   \n",
       "94             0.0             0.000000                         0.0   \n",
       "107            0.0             0.000000                         0.0   \n",
       "109            0.0             0.000000                         0.0   \n",
       "..             ...                  ...                         ...   \n",
       "16             0.0             0.236101                         0.0   \n",
       "18             0.0             0.236101                         0.0   \n",
       "21             0.0             0.236101                         0.0   \n",
       "26             0.0             0.236101                         0.0   \n",
       "33             0.0             0.236101                         0.0   \n",
       "\n",
       "     Brand_Drug_Cost  ...  b14c14_Re_admission_Prevention_OON  \\\n",
       "67         40.176216  ...                            0.830286   \n",
       "79         34.192524  ...                            0.830286   \n",
       "94         34.192524  ...                            0.830286   \n",
       "107        35.902150  ...                            0.830286   \n",
       "109        40.176216  ...                            0.830286   \n",
       "..               ...  ...                                 ...   \n",
       "16         40.176216  ...                            0.830286   \n",
       "18         40.176216  ...                            0.830286   \n",
       "21         40.176216  ...                            0.830286   \n",
       "26         40.176216  ...                            0.830286   \n",
       "33         40.176216  ...                            0.830286   \n",
       "\n",
       "     b7a_Primary_Care_Physician  b17a_Eye_Exam_OON  b14c9_Counseling_Services  \\\n",
       "67                     0.000000           1.972000                  10.868164   \n",
       "79                     0.597276           1.921316                  10.868164   \n",
       "94                     0.000000           2.958000                  10.868164   \n",
       "107                    0.000000           2.958000                  10.868164   \n",
       "109                    0.000000           0.326360                  10.868164   \n",
       "..                          ...                ...                        ...   \n",
       "16                     0.000000           2.284520                   8.748031   \n",
       "18                     0.000000           2.284520                   8.748031   \n",
       "21                     0.000000           2.284520                   8.748031   \n",
       "26                     0.000000           2.284520                   8.748031   \n",
       "33                     0.000000           2.284520                   8.748031   \n",
       "\n",
       "     b7b_Chiropractic_Services_OON  b5_Partial_Hospitalization  \\\n",
       "67                        9.840078                   18.817218   \n",
       "79                        9.383968                   52.688209   \n",
       "94                       10.181628                   52.688209   \n",
       "107                      10.181628                   45.161322   \n",
       "109                       9.687331                   45.161322   \n",
       "..                             ...                         ...   \n",
       "16                        1.707750                   41.397879   \n",
       "18                        1.707750                   41.397879   \n",
       "21                        1.707750                   41.397879   \n",
       "26                        1.707750                   41.397879   \n",
       "33                        1.707750                   41.397879   \n",
       "\n",
       "     Monthly_Consolidated_Premium_C_D  Annual_Drug_Deductible  Total TPV   \\\n",
       "67                                0.0                     0.0  238.758947   \n",
       "79                                0.0                     0.0  228.714910   \n",
       "94                                0.0                     0.0  223.227770   \n",
       "107                               0.0                     0.0  200.217765   \n",
       "109                               0.0                     0.0  250.719013   \n",
       "..                                ...                     ...         ...   \n",
       "16                                0.0                     0.0    0.000000   \n",
       "18                                0.0                     0.0    0.000000   \n",
       "21                                0.0                     0.0    0.000000   \n",
       "26                                0.0                     0.0    0.000000   \n",
       "33                                0.0                     0.0    0.000000   \n",
       "\n",
       "     Grand_Total  \n",
       "67    218.088896  \n",
       "79    211.827973  \n",
       "94    211.372668  \n",
       "107   223.237158  \n",
       "109   208.852842  \n",
       "..           ...  \n",
       "16      0.000000  \n",
       "18      0.000000  \n",
       "21      0.000000  \n",
       "26      0.000000  \n",
       "33      0.000000  \n",
       "\n",
       "[186 rows x 115 columns]"
      ]
     },
     "execution_count": 87,
     "metadata": {},
     "output_type": "execute_result"
    }
   ],
   "source": [
    "set0_data"
   ]
  },
  {
   "cell_type": "markdown",
   "id": "86434f28",
   "metadata": {},
   "source": [
    "# 2nd  Cluster - Clustering"
   ]
  },
  {
   "cell_type": "code",
   "execution_count": 88,
   "id": "d3db2852",
   "metadata": {},
   "outputs": [],
   "source": [
    "X = set0_data[second_set_benefits].copy(deep=True)"
   ]
  },
  {
   "cell_type": "code",
   "execution_count": 89,
   "id": "8daf0aa3",
   "metadata": {},
   "outputs": [
    {
     "data": {
      "text/plain": [
       "(186, 115)"
      ]
     },
     "execution_count": 89,
     "metadata": {},
     "output_type": "execute_result"
    }
   ],
   "source": [
    "set0_data.shape"
   ]
  },
  {
   "cell_type": "code",
   "execution_count": 90,
   "id": "ac05149a",
   "metadata": {},
   "outputs": [
    {
     "data": {
      "text/html": [
       "<div>\n",
       "<style scoped>\n",
       "    .dataframe tbody tr th:only-of-type {\n",
       "        vertical-align: middle;\n",
       "    }\n",
       "\n",
       "    .dataframe tbody tr th {\n",
       "        vertical-align: top;\n",
       "    }\n",
       "\n",
       "    .dataframe thead tr th {\n",
       "        text-align: left;\n",
       "    }\n",
       "</style>\n",
       "<table border=\"1\" class=\"dataframe\">\n",
       "  <thead>\n",
       "    <tr>\n",
       "      <th></th>\n",
       "      <th>b3_Cardiac</th>\n",
       "      <th>pbp_b13b_otc_coverage</th>\n",
       "      <th>b14c9_Counseling_Services</th>\n",
       "      <th>b7a_Primary_Care_Physician</th>\n",
       "      <th>b17b_Eye_Wear_mandatory</th>\n",
       "      <th>b14c4_Fitness_Benefit</th>\n",
       "      <th>b9d_Outpatient_Blood_Services</th>\n",
       "      <th>b14c6_telemonitoring</th>\n",
       "      <th>Generic_Drug_Cost</th>\n",
       "      <th>b13c_Meals</th>\n",
       "      <th>...</th>\n",
       "      <th>b17b_Eyewear_Coverage</th>\n",
       "      <th>b7d_Physician_Specialists</th>\n",
       "      <th>b16a_Prev_Dental_Coverage</th>\n",
       "      <th>b16b_Comp_Dental_mandatory</th>\n",
       "      <th>b15_MRx</th>\n",
       "      <th>b7j_Additional_Telehealth</th>\n",
       "      <th>b7k_Opioid</th>\n",
       "      <th>b14c21_In_Home_Support_Services</th>\n",
       "      <th>b9a_Outpatient_Hospital_Services</th>\n",
       "      <th>b1a_inpat_acute</th>\n",
       "    </tr>\n",
       "  </thead>\n",
       "  <tbody>\n",
       "    <tr>\n",
       "      <th>0</th>\n",
       "      <td>0.093060</td>\n",
       "      <td>0.268817</td>\n",
       "      <td>1.0</td>\n",
       "      <td>0.0</td>\n",
       "      <td>0.591353</td>\n",
       "      <td>0.0</td>\n",
       "      <td>0.0</td>\n",
       "      <td>1.0</td>\n",
       "      <td>0.0</td>\n",
       "      <td>0.0</td>\n",
       "      <td>...</td>\n",
       "      <td>0.379507</td>\n",
       "      <td>0.5</td>\n",
       "      <td>0.300075</td>\n",
       "      <td>0.005280</td>\n",
       "      <td>1.000000</td>\n",
       "      <td>0.008476</td>\n",
       "      <td>0.357143</td>\n",
       "      <td>0.0</td>\n",
       "      <td>0.146942</td>\n",
       "      <td>0.483164</td>\n",
       "    </tr>\n",
       "    <tr>\n",
       "      <th>1</th>\n",
       "      <td>0.139591</td>\n",
       "      <td>0.107527</td>\n",
       "      <td>1.0</td>\n",
       "      <td>0.2</td>\n",
       "      <td>0.000000</td>\n",
       "      <td>0.0</td>\n",
       "      <td>0.0</td>\n",
       "      <td>1.0</td>\n",
       "      <td>0.0</td>\n",
       "      <td>0.0</td>\n",
       "      <td>...</td>\n",
       "      <td>0.379507</td>\n",
       "      <td>0.5</td>\n",
       "      <td>0.249812</td>\n",
       "      <td>0.005280</td>\n",
       "      <td>1.000000</td>\n",
       "      <td>0.000000</td>\n",
       "      <td>0.357143</td>\n",
       "      <td>1.0</td>\n",
       "      <td>0.381500</td>\n",
       "      <td>0.484968</td>\n",
       "    </tr>\n",
       "    <tr>\n",
       "      <th>2</th>\n",
       "      <td>0.139591</td>\n",
       "      <td>0.107527</td>\n",
       "      <td>1.0</td>\n",
       "      <td>0.0</td>\n",
       "      <td>0.000000</td>\n",
       "      <td>0.0</td>\n",
       "      <td>0.0</td>\n",
       "      <td>1.0</td>\n",
       "      <td>0.0</td>\n",
       "      <td>0.0</td>\n",
       "      <td>...</td>\n",
       "      <td>0.379507</td>\n",
       "      <td>0.6</td>\n",
       "      <td>0.249812</td>\n",
       "      <td>0.006336</td>\n",
       "      <td>1.000000</td>\n",
       "      <td>0.000000</td>\n",
       "      <td>0.428571</td>\n",
       "      <td>1.0</td>\n",
       "      <td>0.342762</td>\n",
       "      <td>0.450558</td>\n",
       "    </tr>\n",
       "    <tr>\n",
       "      <th>3</th>\n",
       "      <td>0.093060</td>\n",
       "      <td>0.107527</td>\n",
       "      <td>1.0</td>\n",
       "      <td>0.0</td>\n",
       "      <td>0.000000</td>\n",
       "      <td>0.0</td>\n",
       "      <td>0.0</td>\n",
       "      <td>1.0</td>\n",
       "      <td>0.0</td>\n",
       "      <td>0.0</td>\n",
       "      <td>...</td>\n",
       "      <td>0.379507</td>\n",
       "      <td>0.6</td>\n",
       "      <td>0.300075</td>\n",
       "      <td>0.006336</td>\n",
       "      <td>1.000000</td>\n",
       "      <td>0.000000</td>\n",
       "      <td>0.428571</td>\n",
       "      <td>1.0</td>\n",
       "      <td>0.449582</td>\n",
       "      <td>0.529589</td>\n",
       "    </tr>\n",
       "    <tr>\n",
       "      <th>4</th>\n",
       "      <td>0.186121</td>\n",
       "      <td>0.401434</td>\n",
       "      <td>1.0</td>\n",
       "      <td>0.0</td>\n",
       "      <td>0.000000</td>\n",
       "      <td>0.0</td>\n",
       "      <td>0.0</td>\n",
       "      <td>1.0</td>\n",
       "      <td>0.0</td>\n",
       "      <td>0.0</td>\n",
       "      <td>...</td>\n",
       "      <td>0.569260</td>\n",
       "      <td>0.4</td>\n",
       "      <td>0.000000</td>\n",
       "      <td>0.004224</td>\n",
       "      <td>0.650789</td>\n",
       "      <td>0.007063</td>\n",
       "      <td>0.285714</td>\n",
       "      <td>1.0</td>\n",
       "      <td>0.404934</td>\n",
       "      <td>0.473026</td>\n",
       "    </tr>\n",
       "  </tbody>\n",
       "</table>\n",
       "<p>5 rows × 26 columns</p>\n",
       "</div>"
      ],
      "text/plain": [
       "  b3_Cardiac pbp_b13b_otc_coverage b14c9_Counseling_Services  \\\n",
       "0   0.093060              0.268817                       1.0   \n",
       "1   0.139591              0.107527                       1.0   \n",
       "2   0.139591              0.107527                       1.0   \n",
       "3   0.093060              0.107527                       1.0   \n",
       "4   0.186121              0.401434                       1.0   \n",
       "\n",
       "  b7a_Primary_Care_Physician b17b_Eye_Wear_mandatory b14c4_Fitness_Benefit  \\\n",
       "0                        0.0                0.591353                   0.0   \n",
       "1                        0.2                0.000000                   0.0   \n",
       "2                        0.0                0.000000                   0.0   \n",
       "3                        0.0                0.000000                   0.0   \n",
       "4                        0.0                0.000000                   0.0   \n",
       "\n",
       "  b9d_Outpatient_Blood_Services b14c6_telemonitoring Generic_Drug_Cost  \\\n",
       "0                           0.0                  1.0               0.0   \n",
       "1                           0.0                  1.0               0.0   \n",
       "2                           0.0                  1.0               0.0   \n",
       "3                           0.0                  1.0               0.0   \n",
       "4                           0.0                  1.0               0.0   \n",
       "\n",
       "  b13c_Meals  ... b17b_Eyewear_Coverage b7d_Physician_Specialists  \\\n",
       "0        0.0  ...              0.379507                       0.5   \n",
       "1        0.0  ...              0.379507                       0.5   \n",
       "2        0.0  ...              0.379507                       0.6   \n",
       "3        0.0  ...              0.379507                       0.6   \n",
       "4        0.0  ...              0.569260                       0.4   \n",
       "\n",
       "  b16a_Prev_Dental_Coverage b16b_Comp_Dental_mandatory   b15_MRx  \\\n",
       "0                  0.300075                   0.005280  1.000000   \n",
       "1                  0.249812                   0.005280  1.000000   \n",
       "2                  0.249812                   0.006336  1.000000   \n",
       "3                  0.300075                   0.006336  1.000000   \n",
       "4                  0.000000                   0.004224  0.650789   \n",
       "\n",
       "  b7j_Additional_Telehealth b7k_Opioid b14c21_In_Home_Support_Services  \\\n",
       "0                  0.008476   0.357143                             0.0   \n",
       "1                  0.000000   0.357143                             1.0   \n",
       "2                  0.000000   0.428571                             1.0   \n",
       "3                  0.000000   0.428571                             1.0   \n",
       "4                  0.007063   0.285714                             1.0   \n",
       "\n",
       "  b9a_Outpatient_Hospital_Services b1a_inpat_acute  \n",
       "0                         0.146942        0.483164  \n",
       "1                         0.381500        0.484968  \n",
       "2                         0.342762        0.450558  \n",
       "3                         0.449582        0.529589  \n",
       "4                         0.404934        0.473026  \n",
       "\n",
       "[5 rows x 26 columns]"
      ]
     },
     "execution_count": 90,
     "metadata": {},
     "output_type": "execute_result"
    }
   ],
   "source": [
    "cols = X.columns\n",
    "\n",
    "from sklearn.preprocessing import MinMaxScaler\n",
    "\n",
    "ms = MinMaxScaler()\n",
    "\n",
    "X = ms.fit_transform(X)\n",
    "\n",
    "X = pd.DataFrame(X, columns=[cols])\n",
    "\n",
    "X.head()"
   ]
  },
  {
   "cell_type": "code",
   "execution_count": null,
   "id": "adea313b",
   "metadata": {},
   "outputs": [],
   "source": []
  },
  {
   "cell_type": "code",
   "execution_count": null,
   "id": "1f0e6ce5",
   "metadata": {},
   "outputs": [],
   "source": []
  },
  {
   "cell_type": "code",
   "execution_count": null,
   "id": "88298be8",
   "metadata": {},
   "outputs": [],
   "source": []
  },
  {
   "cell_type": "code",
   "execution_count": 91,
   "id": "107eafbc",
   "metadata": {},
   "outputs": [],
   "source": [
    "from sklearn.cluster import KMeans\n",
    "\n",
    "cs = []\n",
    "\n",
    "for i in range(1, 11):\n",
    "    kmeans = KMeans(n_clusters = i, init = 'k-means++', max_iter = 300, n_init = 10, random_state = 110)\n",
    "    kmeans.fit(X)\n",
    "    cs.append(kmeans.inertia_)\n"
   ]
  },
  {
   "cell_type": "code",
   "execution_count": 92,
   "id": "837f451d",
   "metadata": {},
   "outputs": [
    {
     "data": {
      "image/png": "[encoded data removed]",
      "text/plain": [
       "<Figure size 432x288 with 1 Axes>"
      ]
     },
     "metadata": {
      "needs_background": "light"
     },
     "output_type": "display_data"
    }
   ],
   "source": [
    "plt.plot(range(1,11), cs)\n",
    "plt.title(\"Elbow Plot\")\n",
    "plt.xlabel(\"Number of Clusters\")\n",
    "plt.ylabel(\"CS\")\n",
    "plt.show()"
   ]
  },
  {
   "cell_type": "markdown",
   "id": "fe4c66d8",
   "metadata": {},
   "source": [
    "with 2 clusters"
   ]
  },
  {
   "cell_type": "code",
   "execution_count": null,
   "id": "d9c2f2a1",
   "metadata": {},
   "outputs": [],
   "source": []
  },
  {
   "cell_type": "code",
   "execution_count": 94,
   "id": "9fcc0047",
   "metadata": {},
   "outputs": [
    {
     "name": "stdout",
     "output_type": "stream",
     "text": [
      "K = 2 , 197.85106230493\n",
      "K = 3 , 173.63614109281332\n",
      "K = 4 , 151.7620910246354\n",
      "K = 5 , 137.0326089552483\n",
      "K = 6 , 123.27096572305759\n",
      "K = 7 , 121.54548604286548\n",
      "K = 8 , 106.8827822954142\n"
     ]
    }
   ],
   "source": [
    "from sklearn.cluster import KMeans\n",
    "\n",
    "labels_clusters=[]\n",
    "\n",
    "for k in range(2,9):\n",
    "    kmeans = KMeans(n_clusters=k, random_state=0) \n",
    "    \n",
    "    kmeans.fit(X)\n",
    "    \n",
    "    labels_clusters.append(kmeans.labels_)\n",
    "    print(\"K =\",k,\",\", kmeans.inertia_) "
   ]
  },
  {
   "cell_type": "code",
   "execution_count": null,
   "id": "360e33b6",
   "metadata": {},
   "outputs": [],
   "source": []
  },
  {
   "cell_type": "markdown",
   "id": "fa976585",
   "metadata": {},
   "source": [
    "K==3 or K==5 ??"
   ]
  },
  {
   "cell_type": "code",
   "execution_count": 95,
   "id": "56aa9b39",
   "metadata": {},
   "outputs": [
    {
     "data": {
      "text/plain": [
       "(186, 115)"
      ]
     },
     "execution_count": 95,
     "metadata": {},
     "output_type": "execute_result"
    }
   ],
   "source": [
    "set0_data.shape"
   ]
  },
  {
   "cell_type": "code",
   "execution_count": 96,
   "id": "15d06c7d",
   "metadata": {},
   "outputs": [],
   "source": [
    "set0_data['3_cluster_label'] = list(labels_clusters[1])"
   ]
  },
  {
   "cell_type": "code",
   "execution_count": 97,
   "id": "023edd92",
   "metadata": {},
   "outputs": [],
   "source": [
    "set0_data['6_cluster_label'] = list(labels_clusters[4])"
   ]
  },
  {
   "cell_type": "code",
   "execution_count": 98,
   "id": "aff74952",
   "metadata": {},
   "outputs": [],
   "source": [
    "set0_data[second_set_benefits +[\"3_cluster_label\",'6_cluster_label', \"bid_id\"]].to_csv(output_folder + r'\\second_level_clustering.csv',index=False)"
   ]
  },
  {
   "cell_type": "code",
   "execution_count": null,
   "id": "8534eeee",
   "metadata": {},
   "outputs": [],
   "source": []
  },
  {
   "cell_type": "code",
   "execution_count": 99,
   "id": "30799688",
   "metadata": {},
   "outputs": [],
   "source": [
    "set0_data.groupby('6_cluster_label')[second_set_benefits].agg(['min', 'max','mean']).reset_index().to_csv(output_folder + r'\\second_level_clustering_min_max2_mean_6level.csv',index=False)"
   ]
  },
  {
   "cell_type": "code",
   "execution_count": 100,
   "id": "95271e7b",
   "metadata": {},
   "outputs": [],
   "source": [
    "set0_data.groupby('3_cluster_label')[second_set_benefits].agg(['min', 'max','mean']).reset_index().to_csv(output_folder + r'\\second_level_clustering_min_max2_mean_3level.csv',index=False)"
   ]
  },
  {
   "cell_type": "code",
   "execution_count": null,
   "id": "d43cd618",
   "metadata": {},
   "outputs": [],
   "source": []
  },
  {
   "cell_type": "code",
   "execution_count": 101,
   "id": "5fe4c898",
   "metadata": {},
   "outputs": [],
   "source": [
    "enr_df = pd.read_csv(input_folder + r'\\Benefit_Comb_cost_21_to_23.csv')"
   ]
  },
  {
   "cell_type": "code",
   "execution_count": 102,
   "id": "9e7a9e2f",
   "metadata": {},
   "outputs": [],
   "source": [
    "enr_df = enr_df[enr_df['Year']==2023]"
   ]
  },
  {
   "cell_type": "code",
   "execution_count": 103,
   "id": "489cc6af",
   "metadata": {},
   "outputs": [
    {
     "data": {
      "text/plain": [
       "(118649, 204)"
      ]
     },
     "execution_count": 103,
     "metadata": {},
     "output_type": "execute_result"
    }
   ],
   "source": [
    "enr_df.shape"
   ]
  },
  {
   "cell_type": "code",
   "execution_count": 104,
   "id": "273fc80d",
   "metadata": {},
   "outputs": [],
   "source": [
    "enr_df.drop_duplicates(subset=['State','County','bid_id'],inplace=True)"
   ]
  },
  {
   "cell_type": "code",
   "execution_count": 105,
   "id": "56fedd55",
   "metadata": {},
   "outputs": [
    {
     "data": {
      "text/plain": [
       "(118649, 204)"
      ]
     },
     "execution_count": 105,
     "metadata": {},
     "output_type": "execute_result"
    }
   ],
   "source": [
    "enr_df.shape"
   ]
  },
  {
   "cell_type": "code",
   "execution_count": 106,
   "id": "073b59bb",
   "metadata": {},
   "outputs": [],
   "source": [
    "enr_df = enr_df[['State','County','bid_id','PreviousYearEnr12','CurrentYearEnr1','CurrentYearEnr2']]"
   ]
  },
  {
   "cell_type": "code",
   "execution_count": 107,
   "id": "26b8fedd",
   "metadata": {},
   "outputs": [
    {
     "data": {
      "text/plain": [
       "(186, 117)"
      ]
     },
     "execution_count": 107,
     "metadata": {},
     "output_type": "execute_result"
    }
   ],
   "source": [
    "set0_data.shape"
   ]
  },
  {
   "cell_type": "code",
   "execution_count": 108,
   "id": "bd1634cc",
   "metadata": {},
   "outputs": [],
   "source": [
    "bid_label_df = set0_data[['bid_id','6_cluster_label']]"
   ]
  },
  {
   "cell_type": "code",
   "execution_count": 109,
   "id": "50ddca46",
   "metadata": {},
   "outputs": [],
   "source": [
    "global_df = global_df[global_df['bid_id'].isin(bid_label_df['bid_id'].unique())]"
   ]
  },
  {
   "cell_type": "code",
   "execution_count": 110,
   "id": "6cdfc783",
   "metadata": {},
   "outputs": [],
   "source": [
    "global_df = global_df.merge(bid_label_df, on='bid_id',how='left')"
   ]
  },
  {
   "cell_type": "code",
   "execution_count": 111,
   "id": "a2c4440b",
   "metadata": {},
   "outputs": [],
   "source": [
    "global_df = global_df.merge(enr_df,on=['State','County','bid_id'],how='left')"
   ]
  },
  {
   "cell_type": "code",
   "execution_count": 112,
   "id": "1c668268",
   "metadata": {},
   "outputs": [],
   "source": [
    "global_df.to_csv(output_folder + r'\\Final_Clustering.csv',index=False)"
   ]
  },
  {
   "cell_type": "code",
   "execution_count": 113,
   "id": "d63f629d",
   "metadata": {},
   "outputs": [
    {
     "data": {
      "text/plain": [
       "(186, 117)"
      ]
     },
     "execution_count": 113,
     "metadata": {},
     "output_type": "execute_result"
    }
   ],
   "source": [
    "set0_data.shape"
   ]
  },
  {
   "cell_type": "code",
   "execution_count": null,
   "id": "873ce60c",
   "metadata": {},
   "outputs": [],
   "source": [
    "# set0_data.to_csv(output_folder + r'\\Newplans_Clustering_PPO.csv',index=False)"
   ]
  },
  {
   "cell_type": "code",
   "execution_count": null,
   "id": "fcc26339",
   "metadata": {},
   "outputs": [],
   "source": [
    "# global_df.describe().to_csv(output_folder + r'\\DESCRIBE_Newplans_Clustering_PPO.csv',index=False)"
   ]
  },
  {
   "cell_type": "markdown",
   "id": "4a781ae3",
   "metadata": {},
   "source": [
    "# 3rd level"
   ]
  },
  {
   "cell_type": "markdown",
   "id": "d1de2862",
   "metadata": {},
   "source": [
    "# 0 - 2 - Clutering"
   ]
  },
  {
   "cell_type": "code",
   "execution_count": null,
   "id": "a3f7fc32",
   "metadata": {
    "scrolled": true
   },
   "outputs": [],
   "source": [
    "df2 = set0_data[set0_data[\"5_cluster_label\"]==2]"
   ]
  },
  {
   "cell_type": "code",
   "execution_count": null,
   "id": "997d7644",
   "metadata": {},
   "outputs": [],
   "source": [
    "\"CurrentYearEnr2\" in df2.columns"
   ]
  },
  {
   "cell_type": "code",
   "execution_count": null,
   "id": "802023ce",
   "metadata": {},
   "outputs": [],
   "source": [
    "X = df2[third_set_benefits].copy(deep=True)"
   ]
  },
  {
   "cell_type": "code",
   "execution_count": null,
   "id": "b2abc99d",
   "metadata": {},
   "outputs": [],
   "source": [
    "from sklearn.cluster import KMeans\n",
    "\n",
    "cs = []\n",
    "\n",
    "for i in range(1, 11):\n",
    "    kmeans = KMeans(n_clusters = i, init = 'k-means++', max_iter = 300, n_init = 10, random_state = 0)\n",
    "    kmeans.fit(X)\n",
    "    cs.append(kmeans.inertia_)"
   ]
  },
  {
   "cell_type": "code",
   "execution_count": null,
   "id": "a07c1cb2",
   "metadata": {},
   "outputs": [],
   "source": [
    "plt.plot(range(1,11), cs)\n",
    "plt.title(\"Elbow Plot\")\n",
    "plt.xlabel(\"Number of Clusters\")\n",
    "plt.ylabel(\"CS\")\n",
    "plt.show()"
   ]
  },
  {
   "cell_type": "code",
   "execution_count": null,
   "id": "cd02fca5",
   "metadata": {},
   "outputs": [],
   "source": [
    "from sklearn.cluster import KMeans\n",
    "\n",
    "labels_clusters=[]\n",
    "\n",
    "for k in range(2,7):\n",
    "    kmeans = KMeans(n_clusters=k, random_state=0) \n",
    "    \n",
    "    kmeans.fit(X)\n",
    "    \n",
    "    labels_clusters.append(kmeans.labels_)\n",
    "    print(\"K =\",k,\",\", kmeans.inertia_) "
   ]
  },
  {
   "cell_type": "code",
   "execution_count": null,
   "id": "2e8db84b",
   "metadata": {},
   "outputs": [],
   "source": [
    "df2['3_cluster_label'] = list(labels_clusters[1])"
   ]
  },
  {
   "cell_type": "code",
   "execution_count": null,
   "id": "306b59e6",
   "metadata": {},
   "outputs": [],
   "source": [
    "df2[third_set_benefits +[\"3_cluster_label\",\"bid_id\",\"CurrentYearEnr2\"]].to_csv(output_folder + r'\\third_level_clustering.csv',index=False)"
   ]
  },
  {
   "cell_type": "code",
   "execution_count": null,
   "id": "bcdfb5e7",
   "metadata": {},
   "outputs": [],
   "source": []
  },
  {
   "cell_type": "code",
   "execution_count": null,
   "id": "52f1a290",
   "metadata": {},
   "outputs": [],
   "source": []
  },
  {
   "cell_type": "code",
   "execution_count": null,
   "id": "b6558d28",
   "metadata": {},
   "outputs": [],
   "source": [
    "result3 = global_df1.groupby('3_cluster_label')['CurrentYearEnr2'].agg(['min', 'max'])"
   ]
  },
  {
   "cell_type": "code",
   "execution_count": null,
   "id": "3a978eb3",
   "metadata": {},
   "outputs": [],
   "source": [
    "result3"
   ]
  },
  {
   "cell_type": "code",
   "execution_count": null,
   "id": "354ce29d",
   "metadata": {},
   "outputs": [],
   "source": [
    "# Find clusters for bid_ids H5521_432 to H5521_439\n",
    "bid_ids = ['H5521_432', 'H5521_433', 'H5521_434', 'H5521_435', 'H5521_436', 'H5521_437', 'H5521_438', 'H5521_439']\n",
    "bid_clusters3 = global_df1[global_df1['bid_id'].isin(bid_ids)][['bid_id', '3_cluster_label']]"
   ]
  },
  {
   "cell_type": "code",
   "execution_count": null,
   "id": "adbc8afe",
   "metadata": {},
   "outputs": [],
   "source": [
    "bid_clusters3"
   ]
  },
  {
   "cell_type": "code",
   "execution_count": null,
   "id": "a92e4c5a",
   "metadata": {},
   "outputs": [],
   "source": [
    "result4 = global_df1.groupby('4_cluster_label')['CurrentYearEnr2'].agg(['min', 'max'])"
   ]
  },
  {
   "cell_type": "code",
   "execution_count": null,
   "id": "c8e2c5a0",
   "metadata": {},
   "outputs": [],
   "source": [
    "result4"
   ]
  },
  {
   "cell_type": "code",
   "execution_count": null,
   "id": "de31c71f",
   "metadata": {},
   "outputs": [],
   "source": [
    "# Find clusters for bid_ids H5521_432 to H5521_439\n",
    "bid_ids = ['H5521_432', 'H5521_433', 'H5521_434', 'H5521_435', 'H5521_436', 'H5521_437', 'H5521_438', 'H5521_439']\n",
    "bid_clusters4 = global_df1[global_df1['bid_id'].isin(bid_ids)][['bid_id', '4_cluster_label']]"
   ]
  },
  {
   "cell_type": "code",
   "execution_count": null,
   "id": "e3c467d7",
   "metadata": {},
   "outputs": [],
   "source": [
    "bid_clusters4"
   ]
  },
  {
   "cell_type": "code",
   "execution_count": null,
   "id": "a58c4683",
   "metadata": {},
   "outputs": [],
   "source": []
  }
 ],
 "metadata": {
  "kernelspec": {
   "display_name": "Python 3 (ipykernel)",
   "language": "python",
   "name": "python3"
  },
  "language_info": {
   "codemirror_mode": {
    "name": "ipython",
    "version": 3
   },
   "file_extension": ".py",
   "mimetype": "text/x-python",
   "name": "python",
   "nbconvert_exporter": "python",
   "pygments_lexer": "ipython3",
   "version": "3.9.7"
  }
 },
 "nbformat": 4,
 "nbformat_minor": 5
}
